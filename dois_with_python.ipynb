{
 "cells": [
  {
   "cell_type": "markdown",
   "id": "559414e5",
   "metadata": {},
   "source": [
    "## ORCIDS/DOIs with Python"
   ]
  },
  {
   "cell_type": "code",
   "execution_count": 97,
   "id": "11b5e656",
   "metadata": {},
   "outputs": [],
   "source": [
    "#additional modules to add to the env. file\n",
    "\n",
    "#!pip install filetype\n",
    "#!pip install datacite\n",
    "#!pip install habanero\n",
    "#!pip install insights-core\n",
    "#! pip install -U py-cpuinfo\n",
    "#!pip install git+https://github.com/vdmitriyev/pyorcid.git\n",
    "#!pip install xmltodict"
   ]
  },
  {
   "cell_type": "code",
   "execution_count": 98,
   "id": "387b13d4",
   "metadata": {},
   "outputs": [],
   "source": [
    "from habanero import Crossref\n",
    "import datacite\n",
    "from datacite import DataCiteRESTClient, schema42\n",
    "from insights.parsers.cpuinfo import CpuInfo\n",
    "from insights.parsers import cpuinfo\n",
    "from insights.tests import context_wrap\n",
    "from habanero import *\n"
   ]
  },
  {
   "cell_type": "code",
   "execution_count": 99,
   "id": "790ec29e",
   "metadata": {},
   "outputs": [],
   "source": [
    "import json"
   ]
  },
  {
   "cell_type": "code",
   "execution_count": 116,
   "id": "33a27abf",
   "metadata": {},
   "outputs": [],
   "source": [
    "from secret import ORCID_ID, ORCID_PW"
   ]
  },
  {
   "cell_type": "markdown",
   "id": "ee5bdfe4",
   "metadata": {},
   "source": [
    "# ORCIDS\n"
   ]
  },
  {
   "cell_type": "code",
   "execution_count": 100,
   "id": "3e866ae9",
   "metadata": {},
   "outputs": [],
   "source": [
    "from requests import RequestException\n",
    "import orcid #official library"
   ]
  },
  {
   "cell_type": "code",
   "execution_count": 117,
   "id": "fd45ce42",
   "metadata": {},
   "outputs": [
    {
     "data": {
      "text/plain": [
       "'66e55f4c-b62a-4eef-9c7c-2a8dee553ccc'"
      ]
     },
     "execution_count": 117,
     "metadata": {},
     "output_type": "execute_result"
    }
   ],
   "source": [
    "api = orcid.PublicAPI(ORCID_ID, ORCID_PW,\n",
    "                      sandbox=False)\n",
    "\n",
    "\n",
    "\n",
    "#You will then be returned an access token similar to the following. \n",
    "#The token returned is long-lived (not expiring for approximately 20 years) and can be used multiple times to \n",
    "#retrieve public data from ORCID records. \n",
    "\n",
    "new_token = False\n",
    "if new_token:\n",
    "    search_token = api.get_search_token_from_orcid()\n",
    "else:\n",
    "    search_token = '66e55f4c-b62a-4eef-9c7c-2a8dee553ccc'\n",
    "\n",
    "#how long does a search token last\n",
    "#here is a previous one...\n",
    "#'66e55f4c-b62a-4eef-9c7c-2a8dee553ccc'\n",
    "\n",
    "search_token"
   ]
  },
  {
   "cell_type": "code",
   "execution_count": 118,
   "id": "3c8ebdc4",
   "metadata": {},
   "outputs": [],
   "source": [
    "#Each item (work, funding, employment etc) has a put code. \n",
    "#This can be used to obtain full details of the item if needed."
   ]
  },
  {
   "cell_type": "code",
   "execution_count": 119,
   "id": "ac6dcdc0",
   "metadata": {},
   "outputs": [],
   "source": [
    "#Test Sara's ORCID \n",
    "summary = api.read_record_public('0000-0002-1270-4377', 'record',\n",
    "                                 search_token)\n"
   ]
  },
  {
   "cell_type": "code",
   "execution_count": 120,
   "id": "2686e9ce",
   "metadata": {},
   "outputs": [
    {
     "data": {
      "text/plain": [
       "dict"
      ]
     },
     "execution_count": 120,
     "metadata": {},
     "output_type": "execute_result"
    }
   ],
   "source": [
    "type(summary )"
   ]
  },
  {
   "cell_type": "code",
   "execution_count": 121,
   "id": "3d0bfe61",
   "metadata": {},
   "outputs": [
    {
     "data": {
      "text/plain": [
       "dict_keys(['orcid-identifier', 'preferences', 'history', 'person', 'activities-summary', 'path'])"
      ]
     },
     "execution_count": 121,
     "metadata": {},
     "output_type": "execute_result"
    }
   ],
   "source": [
    "summary.keys()"
   ]
  },
  {
   "cell_type": "code",
   "execution_count": 122,
   "id": "5e9496b5",
   "metadata": {},
   "outputs": [
    {
     "name": "stdout",
     "output_type": "stream",
     "text": [
      "last-modified-date dict_keys(['value'])\n",
      "educations dict_keys(['last-modified-date', 'education-summary', 'path'])\n",
      "employments dict_keys(['last-modified-date', 'employment-summary', 'path'])\n",
      "fundings dict_keys(['last-modified-date', 'group', 'path'])\n",
      "peer-reviews dict_keys(['last-modified-date', 'group', 'path'])\n",
      "works dict_keys(['last-modified-date', 'group', 'path'])\n",
      "path /0000-0002-1270-4377/activities\n"
     ]
    }
   ],
   "source": [
    "for key in summary['activities-summary'].keys():\n",
    "    try:\n",
    "        print(key, summary['activities-summary'][key].keys())\n",
    "    except:\n",
    "        print(key,summary['activities-summary'][key])"
   ]
  },
  {
   "cell_type": "code",
   "execution_count": 30,
   "id": "b305201e",
   "metadata": {},
   "outputs": [
    {
     "data": {
      "text/plain": [
       "3"
      ]
     },
     "execution_count": 30,
     "metadata": {},
     "output_type": "execute_result"
    }
   ],
   "source": [
    "len(summary['activities-summary']['works'])"
   ]
  },
  {
   "cell_type": "code",
   "execution_count": 23,
   "id": "7683519e",
   "metadata": {},
   "outputs": [],
   "source": [
    "json_string = json.dumps(summary)"
   ]
  },
  {
   "cell_type": "code",
   "execution_count": 40,
   "id": "9bae5dc7",
   "metadata": {},
   "outputs": [],
   "source": [
    "#Test Sara's ORCID \n",
    "#summary_works = api.read_record_public('0000-0002-1270-4377', 'record',\n",
    "#                                 search_token)\n",
    "\n",
    "work = api.read_record_public('0000-0002-1270-4377', 'works', search_token)"
   ]
  },
  {
   "cell_type": "code",
   "execution_count": 88,
   "id": "3cad0727",
   "metadata": {},
   "outputs": [],
   "source": [
    "#work"
   ]
  },
  {
   "cell_type": "code",
   "execution_count": 6,
   "id": "b8a43671",
   "metadata": {},
   "outputs": [],
   "source": [
    "# a different way"
   ]
  },
  {
   "cell_type": "code",
   "execution_count": null,
   "id": "7d6675bb",
   "metadata": {},
   "outputs": [],
   "source": []
  },
  {
   "cell_type": "markdown",
   "id": "f3262be4",
   "metadata": {},
   "source": [
    "# DOIs\n",
    "\n",
    "## Habanero (crossref) - articles\n",
    "\n",
    "Seems to works well for articles. "
   ]
  },
  {
   "cell_type": "code",
   "execution_count": 54,
   "id": "00aadda6",
   "metadata": {},
   "outputs": [],
   "source": [
    "cr = Crossref()\n",
    "output =  cr.works(ids = 'https://doi.org/10.1029/2022GC010386')"
   ]
  },
  {
   "cell_type": "code",
   "execution_count": 55,
   "id": "00aca657",
   "metadata": {},
   "outputs": [
    {
     "data": {
      "text/plain": [
       "dict"
      ]
     },
     "execution_count": 55,
     "metadata": {},
     "output_type": "execute_result"
    }
   ],
   "source": [
    "type(output)"
   ]
  },
  {
   "cell_type": "code",
   "execution_count": 56,
   "id": "0648ab0d",
   "metadata": {},
   "outputs": [
    {
     "data": {
      "text/plain": [
       "dict_keys(['status', 'message-type', 'message-version', 'message'])"
      ]
     },
     "execution_count": 56,
     "metadata": {},
     "output_type": "execute_result"
    }
   ],
   "source": [
    "output.keys()"
   ]
  },
  {
   "cell_type": "code",
   "execution_count": 57,
   "id": "cabed23b",
   "metadata": {},
   "outputs": [
    {
     "data": {
      "text/plain": [
       "('ok', 'work')"
      ]
     },
     "execution_count": 57,
     "metadata": {},
     "output_type": "execute_result"
    }
   ],
   "source": [
    "output['status'], output['message-type'], "
   ]
  },
  {
   "cell_type": "code",
   "execution_count": 59,
   "id": "36af5846",
   "metadata": {},
   "outputs": [
    {
     "name": "stdout",
     "output_type": "stream",
     "text": [
      "dict_keys(['indexed', 'reference-count', 'publisher', 'issue', 'license', 'funder', 'content-domain', 'short-container-title', 'published-print', 'abstract', 'DOI', 'type', 'created', 'update-policy', 'source', 'is-referenced-by-count', 'title', 'prefix', 'volume', 'author', 'member', 'published-online', 'reference', 'container-title', 'original-title', 'language', 'link', 'deposited', 'score', 'resource', 'subtitle', 'short-title', 'issued', 'references-count', 'journal-issue', 'alternative-id', 'URL', 'archive', 'relation', 'ISSN', 'issn-type', 'subject', 'published', 'assertion'])\n"
     ]
    }
   ],
   "source": [
    "#the record is contained in the message value,.  \n",
    "#it is a dict\n",
    "#type(output['message'])\n",
    "print(output['message'].keys() )"
   ]
  },
  {
   "cell_type": "code",
   "execution_count": 61,
   "id": "ccd8be2a",
   "metadata": {},
   "outputs": [
    {
     "data": {
      "text/plain": [
       "{'ORCID': 'http://orcid.org/0000-0002-1521-7910',\n",
       " 'authenticated-orcid': False,\n",
       " 'given': 'Andrés Felipe',\n",
       " 'family': 'Rodríguez Corcho',\n",
       " 'sequence': 'first',\n",
       " 'affiliation': [{'name': 'School of Geography, Earth and Atmospheric Sciences University of Melbourne  Melbourne VIC Australia'},\n",
       "  {'name': 'School of Geosciences University of Sydney  Sydney NSW Australia'}]}"
      ]
     },
     "execution_count": 61,
     "metadata": {},
     "output_type": "execute_result"
    }
   ],
   "source": [
    "#Get the first Author\n",
    "output['message']['author'][0]"
   ]
  },
  {
   "cell_type": "code",
   "execution_count": 62,
   "id": "c0b7a802",
   "metadata": {},
   "outputs": [
    {
     "data": {
      "text/plain": [
       "6"
      ]
     },
     "execution_count": 62,
     "metadata": {},
     "output_type": "execute_result"
    }
   ],
   "source": [
    "len(output['message']['author'])"
   ]
  },
  {
   "cell_type": "code",
   "execution_count": 63,
   "id": "f0e040ca",
   "metadata": {},
   "outputs": [],
   "source": [
    "#habanero cannot read orcidIDs\n",
    "#output = cr.works(ids = 'http://orcid.org/0000-0002-1270-4377')"
   ]
  },
  {
   "cell_type": "markdown",
   "id": "b9462330",
   "metadata": {},
   "source": [
    "## Habanero (crossref) - other DOIs\n",
    "\n",
    "* use the content_negotiation function, you get something\n",
    "* Supports DOIs from Crossref, Datacite and Medra\n"
   ]
  },
  {
   "cell_type": "markdown",
   "id": "087e6a95",
   "metadata": {},
   "source": [
    "### GeoNetwork"
   ]
  },
  {
   "cell_type": "code",
   "execution_count": 102,
   "id": "f878db61",
   "metadata": {},
   "outputs": [],
   "source": [
    "# Geonetwork\n",
    "#this is the DOI for Gadi from the GeoNetwork record. \n",
    "\n",
    "output =  cn.content_negotiation('https://doi.org/10.25914/608bfd1838db2', \n",
    "                                format = \"datacite-xml\")"
   ]
  },
  {
   "cell_type": "code",
   "execution_count": 103,
   "id": "5ddb3006",
   "metadata": {},
   "outputs": [
    {
     "data": {
      "text/plain": [
       "{'resource': {'@xmlns:xsi': 'http://www.w3.org/2001/XMLSchema-instance',\n",
       "  '@xmlns': 'http://datacite.org/schema/kernel-4',\n",
       "  '@xsi:schemaLocation': 'http://datacite.org/schema/kernel-4 http://schema.datacite.org/meta/kernel-4/metadata.xsd',\n",
       "  'identifier': {'@identifierType': 'DOI', '#text': '10.25914/608BFD1838DB2'},\n",
       "  'creators': {'creator': {'creatorName': {'@nameType': 'Organizational',\n",
       "     '#text': 'National Computational Infrastructure'},\n",
       "    'nameIdentifier': {'@nameIdentifierScheme': 'ROR',\n",
       "     '@schemeURI': 'https://ror.org',\n",
       "     '#text': 'https://ror.org/04yx6dh41'}}},\n",
       "  'titles': {'title': 'Gadi Supercomputer'},\n",
       "  'publisher': 'NCI Australia',\n",
       "  'publicationYear': '2021',\n",
       "  'resourceType': {'@resourceTypeGeneral': 'Service', '#text': 'Service'},\n",
       "  'dates': {'date': {'@dateType': 'Issued', '#text': '2021'}},\n",
       "  'language': 'en',\n",
       "  'sizes': None,\n",
       "  'formats': None,\n",
       "  'version': None}}"
      ]
     },
     "execution_count": 103,
     "metadata": {},
     "output_type": "execute_result"
    }
   ],
   "source": [
    "import xmltodict\n",
    "xmltodict.parse(output)"
   ]
  },
  {
   "cell_type": "code",
   "execution_count": 104,
   "id": "cf374dad",
   "metadata": {},
   "outputs": [],
   "source": [
    "#cn.content_negotiation?"
   ]
  },
  {
   "cell_type": "markdown",
   "id": "5bdd5917",
   "metadata": {},
   "source": [
    "### Zenodo"
   ]
  },
  {
   "cell_type": "code",
   "execution_count": 105,
   "id": "67465aa1",
   "metadata": {},
   "outputs": [],
   "source": [
    "#cn.content_negotiation?\n",
    "\n",
    "output =  cn.content_negotiation('https://doi.org/10.5281/zenodo.5772203',\n",
    "                                format = \"datacite-xml\")\n"
   ]
  },
  {
   "cell_type": "code",
   "execution_count": 106,
   "id": "24409bde",
   "metadata": {},
   "outputs": [
    {
     "data": {
      "text/plain": [
       "dict_keys(['@xmlns:xsi', '@xmlns', '@xsi:schemaLocation', 'identifier', 'creators', 'titles', 'publisher', 'publicationYear', 'resourceType', 'dates', 'alternateIdentifiers', 'relatedIdentifiers', 'sizes', 'formats', 'version', 'rightsList', 'descriptions'])"
      ]
     },
     "execution_count": 106,
     "metadata": {},
     "output_type": "execute_result"
    }
   ],
   "source": [
    "xmltodict.parse(output)['resource'].keys()"
   ]
  },
  {
   "cell_type": "code",
   "execution_count": 108,
   "id": "dc103a24",
   "metadata": {},
   "outputs": [
    {
     "data": {
      "text/plain": [
       "{'@xmlns:xsi': 'http://www.w3.org/2001/XMLSchema-instance',\n",
       " '@xmlns': 'http://datacite.org/schema/kernel-4',\n",
       " '@xsi:schemaLocation': 'http://datacite.org/schema/kernel-4 http://schema.datacite.org/meta/kernel-4/metadata.xsd',\n",
       " 'identifier': {'@identifierType': 'DOI', '#text': '10.5281/ZENODO.5772203'},\n",
       " 'creators': {'creator': {'creatorName': {'@nameType': 'Personal',\n",
       "    '#text': 'Corcho, Andres Felipe Rodriguez'},\n",
       "   'givenName': 'Andres Felipe Rodriguez',\n",
       "   'familyName': 'Corcho',\n",
       "   'affiliation': 'University of Melbourne'}},\n",
       " 'titles': {'title': 'andresrcorcho/Dynamics-of-Arc-Continent-Collision: Dynamics of arc-continent collision'},\n",
       " 'publisher': 'Zenodo',\n",
       " 'publicationYear': '2021',\n",
       " 'resourceType': {'@resourceTypeGeneral': 'Software',\n",
       "  '#text': 'SoftwareSourceCode'},\n",
       " 'dates': {'date': {'@dateType': 'Issued', '#text': '2021-12-10'}},\n",
       " 'alternateIdentifiers': {'alternateIdentifier': {'@alternateIdentifierType': 'URL',\n",
       "   '#text': 'https://zenodo.org/record/5772203'}},\n",
       " 'relatedIdentifiers': {'relatedIdentifier': [{'@relatedIdentifierType': 'URL',\n",
       "    '@relationType': 'IsSupplementTo',\n",
       "    '#text': 'https://github.com/andresrcorcho/Dynamics-of-Arc-Continent-Collision/tree/1.2.0'},\n",
       "   {'@relatedIdentifierType': 'DOI',\n",
       "    '@relationType': 'IsVersionOf',\n",
       "    '#text': '10.5281/zenodo.4581156'}]},\n",
       " 'sizes': None,\n",
       " 'formats': None,\n",
       " 'version': '1.2.0',\n",
       " 'rightsList': {'rights': {'@rightsURI': 'info:eu-repo/semantics/openAccess',\n",
       "   '#text': 'Open Access'}},\n",
       " 'descriptions': {'description': {'@descriptionType': 'Abstract',\n",
       "   '#text': 'Contains the original notebooks scripts used to ran the numerical simulations presented in the paper: \"Dynamics of arc-continent collision: the role of lithospheric-mantle dynamics on controlling the evolution of stress regime\", within the folder \"Arc-continent collision\". Additionally, it contains the measured surface kinematics, slab dip, strain_rate tensor at the surface, and viscous dissipation data. These data can be found within the \"Kinematics_data\", \"Slab_dipData\", \"Deviatoric_stress_strain\" and \"Viscous_dissipation_data\", that can be processed with the scripts within the folder \"Scripts for creating figures\".'}}}"
      ]
     },
     "execution_count": 108,
     "metadata": {},
     "output_type": "execute_result"
    }
   ],
   "source": [
    "xmltodict.parse(output)['resource']"
   ]
  },
  {
   "cell_type": "markdown",
   "id": "15985a0a",
   "metadata": {},
   "source": [
    "### Figshare"
   ]
  },
  {
   "cell_type": "code",
   "execution_count": 111,
   "id": "7a4046a7",
   "metadata": {},
   "outputs": [],
   "source": [
    "output =  cn.content_negotiation('https://doi.org/10.6084/m9.figshare.21506217',\n",
    "                                format = \"datacite-xml\")\n",
    "\n",
    "\n",
    "\n"
   ]
  },
  {
   "cell_type": "code",
   "execution_count": 112,
   "id": "6887fea9",
   "metadata": {},
   "outputs": [
    {
     "data": {
      "text/plain": [
       "{'@xmlns:xsi': 'http://www.w3.org/2001/XMLSchema-instance',\n",
       " '@xmlns': 'http://datacite.org/schema/kernel-4',\n",
       " '@xsi:schemaLocation': 'http://datacite.org/schema/kernel-4 http://schema.datacite.org/meta/kernel-4/metadata.xsd',\n",
       " 'identifier': {'@identifierType': 'DOI',\n",
       "  '#text': '10.6084/M9.FIGSHARE.21506217'},\n",
       " 'creators': {'creator': [{'creatorName': 'Chen, Jie',\n",
       "    'givenName': 'Jie',\n",
       "    'familyName': 'Chen',\n",
       "    'nameIdentifier': {'@nameIdentifierScheme': 'ORCID',\n",
       "     '@schemeURI': 'https://orcid.org',\n",
       "     '#text': 'https://orcid.org/0000-0002-4674-8351'}},\n",
       "   {'creatorName': 'Olive, Jean-Arthur',\n",
       "    'givenName': 'Jean-Arthur',\n",
       "    'familyName': 'Olive',\n",
       "    'nameIdentifier': {'@nameIdentifierScheme': 'ORCID',\n",
       "     '@schemeURI': 'https://orcid.org',\n",
       "     '#text': 'https://orcid.org/0000-0001-6899-592X'}},\n",
       "   {'creatorName': 'Cannat, Mathilde',\n",
       "    'givenName': 'Mathilde',\n",
       "    'familyName': 'Cannat'}]},\n",
       " 'titles': {'title': \"Research Data for 'Beyond spreading rate: controls on the thermal regime of mid-ocean ridges'\"},\n",
       " 'publisher': 'figshare',\n",
       " 'publicationYear': '2023',\n",
       " 'resourceType': {'@resourceTypeGeneral': 'Other', '#text': 'Online resource'},\n",
       " 'subjects': {'subject': {'@subjectScheme': 'ANZSRC Fields of Research',\n",
       "   '@schemeURI': 'http://www.abs.gov.au/ausstats/abs@.nsf/0/6BB427AB9696C225CA2574180004463E',\n",
       "   '#text': 'Marine geoscience'}},\n",
       " 'dates': {'date': [{'@dateType': 'Created', '#text': '2023-08-08'},\n",
       "   {'@dateType': 'Updated', '#text': '2023-08-08'},\n",
       "   {'@dateType': 'Issued', '#text': '2023'}]},\n",
       " 'relatedIdentifiers': {'relatedIdentifier': [{'@relatedIdentifierType': 'DOI',\n",
       "    '@relationType': 'References',\n",
       "    '#text': '10.1029/2021jb023715'},\n",
       "   {'@relatedIdentifierType': 'DOI',\n",
       "    '@relationType': 'References',\n",
       "    '#text': '10.1029/2020jb020557'},\n",
       "   {'@relatedIdentifierType': 'DOI',\n",
       "    '@relationType': 'References',\n",
       "    '#text': '10.1029/2017jb014900'},\n",
       "   {'@relatedIdentifierType': 'DOI',\n",
       "    '@relationType': 'References',\n",
       "    '#text': '10.6084/m9.figshare.16641973'}]},\n",
       " 'sizes': {'size': '415926079 Bytes'},\n",
       " 'formats': None,\n",
       " 'version': None,\n",
       " 'rightsList': {'rights': {'@rightsURI': 'https://creativecommons.org/licenses/by/4.0/legalcode',\n",
       "   '@rightsIdentifier': 'cc-by-4.0',\n",
       "   '@rightsIdentifierScheme': 'SPDX',\n",
       "   '@schemeURI': 'https://spdx.org/licenses/',\n",
       "   '#text': 'Creative Commons Attribution 4.0 International'}},\n",
       " 'descriptions': {'description': {'@descriptionType': 'Abstract',\n",
       "   '#text': 'Simulation movies and the MATLAB code of multiporos (modified version).'}}}"
      ]
     },
     "execution_count": 112,
     "metadata": {},
     "output_type": "execute_result"
    }
   ],
   "source": [
    "xmltodict.parse(output)['resource']"
   ]
  },
  {
   "cell_type": "code",
   "execution_count": 113,
   "id": "2ada213a",
   "metadata": {},
   "outputs": [],
   "source": [
    "#### Pangaea"
   ]
  },
  {
   "cell_type": "code",
   "execution_count": 114,
   "id": "cdb46e6b",
   "metadata": {},
   "outputs": [],
   "source": [
    "\n",
    "output =  cn.content_negotiation('https://doi.org/10.1594/PANGAEA.900982',\n",
    "                                format = \"datacite-xml\")\n",
    "\n"
   ]
  },
  {
   "cell_type": "code",
   "execution_count": 115,
   "id": "03e4cc0b",
   "metadata": {},
   "outputs": [
    {
     "data": {
      "text/plain": [
       "{'@xmlns:xsi': 'http://www.w3.org/2001/XMLSchema-instance',\n",
       " '@xmlns': 'http://datacite.org/schema/kernel-4',\n",
       " '@xsi:schemaLocation': 'http://datacite.org/schema/kernel-4 http://schema.datacite.org/meta/kernel-4/metadata.xsd',\n",
       " 'identifier': {'@identifierType': 'DOI', '#text': '10.1594/PANGAEA.900982'},\n",
       " 'creators': {'creator': [{'creatorName': 'Galerne, Christophe',\n",
       "    'givenName': 'Christophe',\n",
       "    'familyName': 'Galerne',\n",
       "    'nameIdentifier': {'@nameIdentifierScheme': 'ORCID',\n",
       "     '@schemeURI': 'https://orcid.org',\n",
       "     '#text': 'https://orcid.org/0000-0001-9696-205X'}},\n",
       "   {'creatorName': 'Hasenclever, Jörg',\n",
       "    'givenName': 'Jörg',\n",
       "    'familyName': 'Hasenclever'}]},\n",
       " 'titles': {'title': 'Hydrothermal fluid flow modelling in homogeneous and stratified sedimentary basin'},\n",
       " 'publisher': 'PANGAEA',\n",
       " 'publicationYear': '2019',\n",
       " 'resourceType': {'@resourceTypeGeneral': 'Dataset',\n",
       "  '#text': 'Supplementary Dataset'},\n",
       " 'subjects': {'subject': [{'@subjectScheme': 'Parameter',\n",
       "    '#text': 'File content'},\n",
       "   {'@subjectScheme': 'Parameter', '#text': 'File name'},\n",
       "   {'@subjectScheme': 'Parameter', '#text': 'File format'},\n",
       "   {'@subjectScheme': 'Parameter', '#text': 'File size'},\n",
       "   {'@subjectScheme': 'Parameter',\n",
       "    '#text': 'Uniform resource locator/link to file'}]},\n",
       " 'dates': {'date': {'@dateType': 'Issued', '#text': '2019'}},\n",
       " 'language': 'en',\n",
       " 'relatedIdentifiers': {'relatedIdentifier': {'@relatedIdentifierType': 'DOI',\n",
       "   '@relationType': 'IsSupplementTo',\n",
       "   '#text': '10.1029/2018gc008120'}},\n",
       " 'sizes': {'size': '24 data points'},\n",
       " 'formats': {'format': 'text/tab-separated-values'},\n",
       " 'version': None,\n",
       " 'rightsList': {'rights': {'@rightsURI': 'https://creativecommons.org/licenses/by/4.0/legalcode',\n",
       "   '@rightsIdentifier': 'cc-by-4.0',\n",
       "   '@rightsIdentifierScheme': 'SPDX',\n",
       "   '@schemeURI': 'https://spdx.org/licenses/',\n",
       "   '#text': 'Creative Commons Attribution 4.0 International'}},\n",
       " 'descriptions': {'description': [{'@descriptionType': 'Abstract',\n",
       "    '#text': 'The movies show the evolution in time of 2-D numerical model calculations investigating hydrothermal fluid flow around a cooling sills in a sedimentary basin. Each movie shows the evolution of a single variable for a specific model setup. The reported variables are: water fraction in the host rock (fH2O), mass of methane (mCH4), permeability (Perm), porosity (Phi), temperature (T), and TOC content of the host rock (TOC).S0: five reference simulations in simplified setupsS1-S3 : The basin has been dissected in three regions with different basindepths. Each of these regions was investigated in a specific 2D modelling sectionwhich is refered to as setup S1, S2 and S3, respectively.'},\n",
       "   {'@descriptionType': 'Other',\n",
       "    '#text': 'Supplement to: Galerne, Christophe; Hasenclever, Jörg (2019): Distinct degassing pulses during magma invasion in the stratified Karoo Basin – New insights from hydrothermal fluid flow modelling. Geochemistry, Geophysics, Geosystems'}]}}"
      ]
     },
     "execution_count": 115,
     "metadata": {},
     "output_type": "execute_result"
    }
   ],
   "source": [
    "xmltodict.parse(output)['resource']"
   ]
  },
  {
   "cell_type": "markdown",
   "id": "73c02bc9",
   "metadata": {},
   "source": [
    "# CPU Info\n",
    "\n",
    "Exploring how to generate system info in a consistemn manner. \n",
    "\n",
    "workhorsy/py-cpuinfo\n",
    "\n",
    "* looks good - it works across a range of sytems, etc\n",
    "* but its opertaion is limited to work on the host computer, not on files. Would need to be tweaked. \n",
    "* `./ASSETS/cpu_info.json` is the result of runnign this script Gadi\n"
   ]
  },
  {
   "cell_type": "code",
   "execution_count": 109,
   "id": "2cbcdc58",
   "metadata": {},
   "outputs": [],
   "source": [
    "from cpuinfo import *"
   ]
  },
  {
   "cell_type": "code",
   "execution_count": 110,
   "id": "503d45e3",
   "metadata": {},
   "outputs": [
    {
     "data": {
      "text/plain": [
       "{'python_version': '3.10.13.final.0 (64 bit)',\n",
       " 'cpuinfo_version': [9, 0, 0],\n",
       " 'cpuinfo_version_string': '9.0.0',\n",
       " 'arch': 'X86_64',\n",
       " 'bits': 64,\n",
       " 'count': 8,\n",
       " 'arch_string_raw': 'x86_64',\n",
       " 'vendor_id_raw': 'GenuineIntel',\n",
       " 'brand_raw': 'Intel(R) Xeon(R) CPU E3-1505M v6 @ 3.00GHz',\n",
       " 'hz_advertised_friendly': '3.0000 GHz',\n",
       " 'hz_actual_friendly': '3.6000 GHz',\n",
       " 'hz_advertised': [3000000000, 0],\n",
       " 'hz_actual': [3600024000, 0],\n",
       " 'stepping': 9,\n",
       " 'model': 158,\n",
       " 'family': 6,\n",
       " 'flags': ['3dnowprefetch',\n",
       "  'abm',\n",
       "  'acpi',\n",
       "  'adx',\n",
       "  'aes',\n",
       "  'aperfmperf',\n",
       "  'apic',\n",
       "  'arat',\n",
       "  'arch_capabilities',\n",
       "  'arch_perfmon',\n",
       "  'art',\n",
       "  'avx',\n",
       "  'avx2',\n",
       "  'bmi1',\n",
       "  'bmi2',\n",
       "  'bts',\n",
       "  'clflush',\n",
       "  'clflushopt',\n",
       "  'cmov',\n",
       "  'constant_tsc',\n",
       "  'cpuid',\n",
       "  'cpuid_fault',\n",
       "  'cx16',\n",
       "  'cx8',\n",
       "  'de',\n",
       "  'ds_cpl',\n",
       "  'dtes64',\n",
       "  'dtherm',\n",
       "  'dts',\n",
       "  'epb',\n",
       "  'ept',\n",
       "  'ept_ad',\n",
       "  'erms',\n",
       "  'est',\n",
       "  'f16c',\n",
       "  'flexpriority',\n",
       "  'flush_l1d',\n",
       "  'fma',\n",
       "  'fpu',\n",
       "  'fsgsbase',\n",
       "  'fxsr',\n",
       "  'hle',\n",
       "  'ht',\n",
       "  'hwp',\n",
       "  'hwp_act_window',\n",
       "  'hwp_epp',\n",
       "  'hwp_notify',\n",
       "  'ibpb',\n",
       "  'ibrs',\n",
       "  'ida',\n",
       "  'intel_pt',\n",
       "  'invpcid',\n",
       "  'invpcid_single',\n",
       "  'lahf_lm',\n",
       "  'lm',\n",
       "  'mca',\n",
       "  'mce',\n",
       "  'md_clear',\n",
       "  'mmx',\n",
       "  'monitor',\n",
       "  'movbe',\n",
       "  'mpx',\n",
       "  'msr',\n",
       "  'mtrr',\n",
       "  'nonstop_tsc',\n",
       "  'nopl',\n",
       "  'nx',\n",
       "  'osxsave',\n",
       "  'pae',\n",
       "  'pat',\n",
       "  'pbe',\n",
       "  'pcid',\n",
       "  'pclmulqdq',\n",
       "  'pdcm',\n",
       "  'pdpe1gb',\n",
       "  'pebs',\n",
       "  'pge',\n",
       "  'pln',\n",
       "  'pni',\n",
       "  'popcnt',\n",
       "  'pse',\n",
       "  'pse36',\n",
       "  'pti',\n",
       "  'pts',\n",
       "  'rdrand',\n",
       "  'rdrnd',\n",
       "  'rdseed',\n",
       "  'rdtscp',\n",
       "  'rep_good',\n",
       "  'rtm',\n",
       "  'sdbg',\n",
       "  'sep',\n",
       "  'sgx',\n",
       "  'smap',\n",
       "  'smep',\n",
       "  'smx',\n",
       "  'ss',\n",
       "  'ssbd',\n",
       "  'sse',\n",
       "  'sse2',\n",
       "  'sse4_1',\n",
       "  'sse4_2',\n",
       "  'ssse3',\n",
       "  'stibp',\n",
       "  'syscall',\n",
       "  'tm',\n",
       "  'tm2',\n",
       "  'tpr_shadow',\n",
       "  'tsc',\n",
       "  'tsc_adjust',\n",
       "  'tsc_deadline_timer',\n",
       "  'tscdeadline',\n",
       "  'vme',\n",
       "  'vmx',\n",
       "  'vnmi',\n",
       "  'vpid',\n",
       "  'x2apic',\n",
       "  'xgetbv1',\n",
       "  'xsave',\n",
       "  'xsavec',\n",
       "  'xsaveopt',\n",
       "  'xsaves',\n",
       "  'xtopology',\n",
       "  'xtpr'],\n",
       " 'l3_cache_size': 8388608,\n",
       " 'l2_cache_size': 1048576,\n",
       " 'l1_data_cache_size': 131072,\n",
       " 'l1_instruction_cache_size': 131072,\n",
       " 'l2_cache_line_size': 256,\n",
       " 'l2_cache_associativity': 6}"
      ]
     },
     "execution_count": 110,
     "metadata": {},
     "output_type": "execute_result"
    }
   ],
   "source": [
    "cpu_here = get_cpu_info()\n",
    "cpu_here"
   ]
  },
  {
   "cell_type": "code",
   "execution_count": 96,
   "id": "08c5fde5",
   "metadata": {},
   "outputs": [
    {
     "data": {
      "text/plain": [
       "dict_keys(['python_version', 'cpuinfo_version', 'cpuinfo_version_string', 'arch', 'bits', 'count', 'arch_string_raw', 'vendor_id_raw', 'brand_raw', 'hz_advertised_friendly', 'hz_actual_friendly', 'hz_advertised', 'hz_actual', 'stepping', 'model', 'family', 'flags', 'l3_cache_size', 'l2_cache_size', 'l1_data_cache_size', 'l1_instruction_cache_size', 'l2_cache_line_size', 'l2_cache_associativity'])"
      ]
     },
     "execution_count": 96,
     "metadata": {},
     "output_type": "execute_result"
    }
   ],
   "source": [
    "cpu_here.keys()"
   ]
  },
  {
   "cell_type": "markdown",
   "id": "106076d0",
   "metadata": {},
   "source": [
    "## Scratch"
   ]
  },
  {
   "cell_type": "code",
   "execution_count": null,
   "id": "8bd425c8",
   "metadata": {},
   "outputs": [],
   "source": [
    "import pyorcid #https://github.com/vdmitriyev/pyorcid\n",
    "#retrieve john's profile from his ORCID\n",
    "\n",
    "\n",
    "author= pyorcid.get('0000-0002-1270-4377')\n",
    "print (author.family_name)\n",
    "\n",
    "author.biography\n",
    "author.publications[0]\n",
    "author = pyorcid.get('0000-0003-3566-1557')\n",
    "pubs = author.publications\n",
    "pub1 = pubs[0]\n",
    "pub1.citation_value"
   ]
  },
  {
   "cell_type": "code",
   "execution_count": null,
   "id": "27d19768",
   "metadata": {},
   "outputs": [],
   "source": []
  },
  {
   "cell_type": "code",
   "execution_count": null,
   "id": "8ebabef9",
   "metadata": {},
   "outputs": [],
   "source": []
  },
  {
   "cell_type": "code",
   "execution_count": null,
   "id": "c9e511dc",
   "metadata": {},
   "outputs": [],
   "source": []
  },
  {
   "cell_type": "code",
   "execution_count": null,
   "id": "43b9fc04",
   "metadata": {},
   "outputs": [],
   "source": [
    "\n",
    "RedHatInsights/insights-core\n",
    "\n",
    "* has the desired operation, in that it reads in a CPUinfo file. \n",
    "* But it doesn't give the right info for my system,\n"
   ]
  },
  {
   "cell_type": "code",
   "execution_count": null,
   "id": "87844781",
   "metadata": {},
   "outputs": [],
   "source": [
    "#with open('./ASSETS/cpuinfo_gadi', 'r') as file:\n",
    "with open('./ASSETS/cpuinfo_local', 'r') as file:    \n",
    "    data = file.read().replace('\\n', '')\n",
    "    cpu_info = CpuInfo(context_wrap(data))"
   ]
  }
 ],
 "metadata": {
  "kernelspec": {
   "display_name": "Python 3 (ipykernel)",
   "language": "python",
   "name": "python3"
  },
  "language_info": {
   "codemirror_mode": {
    "name": "ipython",
    "version": 3
   },
   "file_extension": ".py",
   "mimetype": "text/x-python",
   "name": "python",
   "nbconvert_exporter": "python",
   "pygments_lexer": "ipython3",
   "version": "3.10.13"
  }
 },
 "nbformat": 4,
 "nbformat_minor": 5
}
