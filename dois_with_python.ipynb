{
 "cells": [
  {
   "cell_type": "markdown",
   "id": "559414e5",
   "metadata": {},
   "source": [
    "## ORCIDS/DOIs with Python"
   ]
  },
  {
   "cell_type": "code",
   "execution_count": 79,
   "id": "11b5e656",
   "metadata": {},
   "outputs": [],
   "source": [
    "#additional modules to add to the env. file\n",
    "\n",
    "#!pip install filetype\n",
    "#!pip install datacite\n",
    "#!pip install habanero\n",
    "#!pip install insights-core\n",
    "#! pip install -U py-cpuinfo\n",
    "#!pip install git+https://github.com/vdmitriyev/pyorcid.git\n",
    "#!pip install xmltodict"
   ]
  },
  {
   "cell_type": "code",
   "execution_count": 2,
   "id": "387b13d4",
   "metadata": {},
   "outputs": [],
   "source": [
    "from habanero import Crossref\n",
    "import datacite\n",
    "from datacite import DataCiteRESTClient, schema42\n",
    "from insights.parsers.cpuinfo import CpuInfo\n",
    "from insights.parsers import cpuinfo\n",
    "from insights.tests import context_wrap\n",
    "from habanero import *\n"
   ]
  },
  {
   "cell_type": "code",
   "execution_count": 3,
   "id": "790ec29e",
   "metadata": {},
   "outputs": [],
   "source": [
    "import json"
   ]
  },
  {
   "cell_type": "markdown",
   "id": "ee5bdfe4",
   "metadata": {},
   "source": [
    "# ORCIDS\n"
   ]
  },
  {
   "cell_type": "code",
   "execution_count": 4,
   "id": "3e866ae9",
   "metadata": {},
   "outputs": [],
   "source": [
    "from requests import RequestException\n",
    "import orcid #official library"
   ]
  },
  {
   "cell_type": "code",
   "execution_count": 6,
   "id": "fd45ce42",
   "metadata": {},
   "outputs": [
    {
     "data": {
      "text/plain": [
       "'66e55f4c-b62a-4eef-9c7c-2a8dee553ccc'"
      ]
     },
     "execution_count": 6,
     "metadata": {},
     "output_type": "execute_result"
    }
   ],
   "source": [
    "api = orcid.PublicAPI('APP-IMXEDB78FQXEJ0E1', '470e9c8d-6477-4833-a3ad-c6a657cea295',\n",
    "                      sandbox=False)\n",
    "\n",
    "\n",
    "\n",
    "#You will then be returned an access token similar to the following. \n",
    "#The token returned is long-lived (not expiring for approximately 20 years) and can be used multiple times to \n",
    "#retrieve public data from ORCID records. \n",
    "\n",
    "new_token = False\n",
    "if new_token:\n",
    "    search_token = api.get_search_token_from_orcid()\n",
    "else:\n",
    "    search_token = '66e55f4c-b62a-4eef-9c7c-2a8dee553ccc'\n",
    "\n",
    "#how long does a search token last\n",
    "#here is a previous one...\n",
    "#'66e55f4c-b62a-4eef-9c7c-2a8dee553ccc'\n",
    "\n",
    "search_token"
   ]
  },
  {
   "cell_type": "code",
   "execution_count": 32,
   "id": "3c8ebdc4",
   "metadata": {},
   "outputs": [],
   "source": [
    "#Each item (work, funding, employment etc) has a put code. \n",
    "#This can be used to obtain full details of the item if needed."
   ]
  },
  {
   "cell_type": "code",
   "execution_count": 7,
   "id": "ac6dcdc0",
   "metadata": {},
   "outputs": [],
   "source": [
    "#Test Sara's ORCID \n",
    "summary = api.read_record_public('0000-0002-1270-4377', 'record',\n",
    "                                 search_token)\n"
   ]
  },
  {
   "cell_type": "code",
   "execution_count": 8,
   "id": "2686e9ce",
   "metadata": {},
   "outputs": [
    {
     "data": {
      "text/plain": [
       "dict"
      ]
     },
     "execution_count": 8,
     "metadata": {},
     "output_type": "execute_result"
    }
   ],
   "source": [
    "type(summary )"
   ]
  },
  {
   "cell_type": "code",
   "execution_count": 10,
   "id": "3d0bfe61",
   "metadata": {},
   "outputs": [
    {
     "data": {
      "text/plain": [
       "dict_keys(['orcid-identifier', 'preferences', 'history', 'person', 'activities-summary', 'path'])"
      ]
     },
     "execution_count": 10,
     "metadata": {},
     "output_type": "execute_result"
    }
   ],
   "source": [
    "summary.keys()"
   ]
  },
  {
   "cell_type": "code",
   "execution_count": 28,
   "id": "5e9496b5",
   "metadata": {},
   "outputs": [
    {
     "name": "stdout",
     "output_type": "stream",
     "text": [
      "last-modified-date dict_keys(['value'])\n",
      "educations dict_keys(['last-modified-date', 'education-summary', 'path'])\n",
      "employments dict_keys(['last-modified-date', 'employment-summary', 'path'])\n",
      "fundings dict_keys(['last-modified-date', 'group', 'path'])\n",
      "peer-reviews dict_keys(['last-modified-date', 'group', 'path'])\n",
      "works dict_keys(['last-modified-date', 'group', 'path'])\n",
      "path /0000-0002-1270-4377/activities\n"
     ]
    }
   ],
   "source": [
    "for key in summary['activities-summary'].keys():\n",
    "    try:\n",
    "        print(key, summary['activities-summary'][key].keys())\n",
    "    except:\n",
    "        print(key,summary['activities-summary'][key])"
   ]
  },
  {
   "cell_type": "code",
   "execution_count": 30,
   "id": "b305201e",
   "metadata": {},
   "outputs": [
    {
     "data": {
      "text/plain": [
       "3"
      ]
     },
     "execution_count": 30,
     "metadata": {},
     "output_type": "execute_result"
    }
   ],
   "source": [
    "len(summary['activities-summary']['works'])"
   ]
  },
  {
   "cell_type": "code",
   "execution_count": 23,
   "id": "7683519e",
   "metadata": {},
   "outputs": [],
   "source": [
    "json_string = json.dumps(summary)"
   ]
  },
  {
   "cell_type": "code",
   "execution_count": 40,
   "id": "9bae5dc7",
   "metadata": {},
   "outputs": [],
   "source": [
    "#Test Sara's ORCID \n",
    "#summary_works = api.read_record_public('0000-0002-1270-4377', 'record',\n",
    "#                                 search_token)\n",
    "\n",
    "work = api.read_record_public('0000-0002-1270-4377', 'works', search_token)"
   ]
  },
  {
   "cell_type": "code",
   "execution_count": 88,
   "id": "3cad0727",
   "metadata": {},
   "outputs": [],
   "source": [
    "#work"
   ]
  },
  {
   "cell_type": "code",
   "execution_count": 6,
   "id": "b8a43671",
   "metadata": {},
   "outputs": [],
   "source": [
    "# a different way"
   ]
  },
  {
   "cell_type": "code",
   "execution_count": null,
   "id": "b4cbc7b2",
   "metadata": {},
   "outputs": [],
   "source": []
  },
  {
   "cell_type": "markdown",
   "id": "72b3e1be",
   "metadata": {},
   "source": [
    "# DOIs\n",
    "\n",
    "## Habanero (crossref) - articles\n",
    "\n",
    "Seems to works well for articles. "
   ]
  },
  {
   "cell_type": "code",
   "execution_count": 54,
   "id": "00aadda6",
   "metadata": {},
   "outputs": [],
   "source": [
    "cr = Crossref()\n",
    "output =  cr.works(ids = 'https://doi.org/10.1029/2022GC010386')"
   ]
  },
  {
   "cell_type": "code",
   "execution_count": 55,
   "id": "00aca657",
   "metadata": {},
   "outputs": [
    {
     "data": {
      "text/plain": [
       "dict"
      ]
     },
     "execution_count": 55,
     "metadata": {},
     "output_type": "execute_result"
    }
   ],
   "source": [
    "type(output)"
   ]
  },
  {
   "cell_type": "code",
   "execution_count": 56,
   "id": "0648ab0d",
   "metadata": {},
   "outputs": [
    {
     "data": {
      "text/plain": [
       "dict_keys(['status', 'message-type', 'message-version', 'message'])"
      ]
     },
     "execution_count": 56,
     "metadata": {},
     "output_type": "execute_result"
    }
   ],
   "source": [
    "output.keys()"
   ]
  },
  {
   "cell_type": "code",
   "execution_count": 57,
   "id": "cabed23b",
   "metadata": {},
   "outputs": [
    {
     "data": {
      "text/plain": [
       "('ok', 'work')"
      ]
     },
     "execution_count": 57,
     "metadata": {},
     "output_type": "execute_result"
    }
   ],
   "source": [
    "output['status'], output['message-type'], "
   ]
  },
  {
   "cell_type": "code",
   "execution_count": 59,
   "id": "36af5846",
   "metadata": {},
   "outputs": [
    {
     "name": "stdout",
     "output_type": "stream",
     "text": [
      "dict_keys(['indexed', 'reference-count', 'publisher', 'issue', 'license', 'funder', 'content-domain', 'short-container-title', 'published-print', 'abstract', 'DOI', 'type', 'created', 'update-policy', 'source', 'is-referenced-by-count', 'title', 'prefix', 'volume', 'author', 'member', 'published-online', 'reference', 'container-title', 'original-title', 'language', 'link', 'deposited', 'score', 'resource', 'subtitle', 'short-title', 'issued', 'references-count', 'journal-issue', 'alternative-id', 'URL', 'archive', 'relation', 'ISSN', 'issn-type', 'subject', 'published', 'assertion'])\n"
     ]
    }
   ],
   "source": [
    "#the record is contained in the message value,.  \n",
    "#it is a dict\n",
    "#type(output['message'])\n",
    "print(output['message'].keys() )"
   ]
  },
  {
   "cell_type": "code",
   "execution_count": 61,
   "id": "ccd8be2a",
   "metadata": {},
   "outputs": [
    {
     "data": {
      "text/plain": [
       "{'ORCID': 'http://orcid.org/0000-0002-1521-7910',\n",
       " 'authenticated-orcid': False,\n",
       " 'given': 'Andrés Felipe',\n",
       " 'family': 'Rodríguez Corcho',\n",
       " 'sequence': 'first',\n",
       " 'affiliation': [{'name': 'School of Geography, Earth and Atmospheric Sciences University of Melbourne  Melbourne VIC Australia'},\n",
       "  {'name': 'School of Geosciences University of Sydney  Sydney NSW Australia'}]}"
      ]
     },
     "execution_count": 61,
     "metadata": {},
     "output_type": "execute_result"
    }
   ],
   "source": [
    "#Get the first Author\n",
    "output['message']['author'][0]"
   ]
  },
  {
   "cell_type": "code",
   "execution_count": 62,
   "id": "c0b7a802",
   "metadata": {},
   "outputs": [
    {
     "data": {
      "text/plain": [
       "6"
      ]
     },
     "execution_count": 62,
     "metadata": {},
     "output_type": "execute_result"
    }
   ],
   "source": [
    "len(output['message']['author'])"
   ]
  },
  {
   "cell_type": "code",
   "execution_count": 63,
   "id": "f0e040ca",
   "metadata": {},
   "outputs": [],
   "source": [
    "#habanero cannot read orcidIDs\n",
    "#output = cr.works(ids = 'http://orcid.org/0000-0002-1270-4377')"
   ]
  },
  {
   "cell_type": "markdown",
   "id": "b9462330",
   "metadata": {},
   "source": [
    "## Habanero (crossref) - other DOIs\n",
    "\n",
    "* use the content_negotiation function, you get something\n",
    "* Supports DOIs from Crossref, Datacite and Medra\n"
   ]
  },
  {
   "cell_type": "code",
   "execution_count": 65,
   "id": "f546e15f",
   "metadata": {},
   "outputs": [],
   "source": []
  },
  {
   "cell_type": "code",
   "execution_count": 75,
   "id": "f878db61",
   "metadata": {},
   "outputs": [],
   "source": [
    "# Geonetwork\n",
    "#this is the DOI for Gadi from the GeoNetwork record. \n",
    "\n",
    "output =  cn.content_negotiation('https://doi.org/10.25914/608bfd1838db2', \n",
    "                                format = \"datacite-xml\")"
   ]
  },
  {
   "cell_type": "code",
   "execution_count": 89,
   "id": "d18d38eb",
   "metadata": {},
   "outputs": [
    {
     "data": {
      "text/plain": [
       "{'resource': {'@xmlns:xsi': 'http://www.w3.org/2001/XMLSchema-instance',\n",
       "  '@xmlns': 'http://datacite.org/schema/kernel-4',\n",
       "  '@xsi:schemaLocation': 'http://datacite.org/schema/kernel-4 http://schema.datacite.org/meta/kernel-4/metadata.xsd',\n",
       "  'identifier': {'@identifierType': 'DOI', '#text': '10.5281/ZENODO.5772203'},\n",
       "  'creators': {'creator': {'creatorName': {'@nameType': 'Personal',\n",
       "     '#text': 'Corcho, Andres Felipe Rodriguez'},\n",
       "    'givenName': 'Andres Felipe Rodriguez',\n",
       "    'familyName': 'Corcho',\n",
       "    'affiliation': 'University of Melbourne'}},\n",
       "  'titles': {'title': 'andresrcorcho/Dynamics-of-Arc-Continent-Collision: Dynamics of arc-continent collision'},\n",
       "  'publisher': 'Zenodo',\n",
       "  'publicationYear': '2021',\n",
       "  'resourceType': {'@resourceTypeGeneral': 'Software',\n",
       "   '#text': 'SoftwareSourceCode'},\n",
       "  'dates': {'date': {'@dateType': 'Issued', '#text': '2021-12-10'}},\n",
       "  'alternateIdentifiers': {'alternateIdentifier': {'@alternateIdentifierType': 'URL',\n",
       "    '#text': 'https://zenodo.org/record/5772203'}},\n",
       "  'relatedIdentifiers': {'relatedIdentifier': [{'@relatedIdentifierType': 'URL',\n",
       "     '@relationType': 'IsSupplementTo',\n",
       "     '#text': 'https://github.com/andresrcorcho/Dynamics-of-Arc-Continent-Collision/tree/1.2.0'},\n",
       "    {'@relatedIdentifierType': 'DOI',\n",
       "     '@relationType': 'IsVersionOf',\n",
       "     '#text': '10.5281/zenodo.4581156'}]},\n",
       "  'sizes': None,\n",
       "  'formats': None,\n",
       "  'version': '1.2.0',\n",
       "  'rightsList': {'rights': {'@rightsURI': 'info:eu-repo/semantics/openAccess',\n",
       "    '#text': 'Open Access'}},\n",
       "  'descriptions': {'description': {'@descriptionType': 'Abstract',\n",
       "    '#text': 'Contains the original notebooks scripts used to ran the numerical simulations presented in the paper: \"Dynamics of arc-continent collision: the role of lithospheric-mantle dynamics on controlling the evolution of stress regime\", within the folder \"Arc-continent collision\". Additionally, it contains the measured surface kinematics, slab dip, strain_rate tensor at the surface, and viscous dissipation data. These data can be found within the \"Kinematics_data\", \"Slab_dipData\", \"Deviatoric_stress_strain\" and \"Viscous_dissipation_data\", that can be processed with the scripts within the folder \"Scripts for creating figures\".'}}}}"
      ]
     },
     "execution_count": 89,
     "metadata": {},
     "output_type": "execute_result"
    }
   ],
   "source": [
    "import xmltodict\n",
    "xmltodict.parse(output)"
   ]
  },
  {
   "cell_type": "code",
   "execution_count": 90,
   "id": "f6f4f2ea",
   "metadata": {},
   "outputs": [],
   "source": [
    "#cn.content_negotiation?"
   ]
  },
  {
   "cell_type": "markdown",
   "id": "5bdd5917",
   "metadata": {},
   "source": [
    "### Zenodo"
   ]
  },
  {
   "cell_type": "code",
   "execution_count": 86,
   "id": "67465aa1",
   "metadata": {},
   "outputs": [],
   "source": [
    "#cn.content_negotiation?\n",
    "\n",
    "output =  cn.content_negotiation('https://doi.org/10.5281/zenodo.5772203',\n",
    "                                format = \"datacite-xml\")\n"
   ]
  },
  {
   "cell_type": "code",
   "execution_count": 92,
   "id": "24409bde",
   "metadata": {},
   "outputs": [
    {
     "data": {
      "text/plain": [
       "dict_keys(['@xmlns:xsi', '@xmlns', '@xsi:schemaLocation', 'identifier', 'creators', 'titles', 'publisher', 'publicationYear', 'resourceType', 'dates', 'alternateIdentifiers', 'relatedIdentifiers', 'sizes', 'formats', 'version', 'rightsList', 'descriptions'])"
      ]
     },
     "execution_count": 92,
     "metadata": {},
     "output_type": "execute_result"
    }
   ],
   "source": [
    "xmltodict.parse(output)['resource'].keys()"
   ]
  },
  {
   "cell_type": "code",
   "execution_count": 93,
   "id": "67881fd0",
   "metadata": {},
   "outputs": [
    {
     "data": {
      "text/plain": [
       "{'creator': {'creatorName': {'@nameType': 'Personal',\n",
       "   '#text': 'Corcho, Andres Felipe Rodriguez'},\n",
       "  'givenName': 'Andres Felipe Rodriguez',\n",
       "  'familyName': 'Corcho',\n",
       "  'affiliation': 'University of Melbourne'}}"
      ]
     },
     "execution_count": 93,
     "metadata": {},
     "output_type": "execute_result"
    }
   ],
   "source": [
    "xmltodict.parse(output)['resource']['creators']"
   ]
  },
  {
   "cell_type": "markdown",
   "id": "73c02bc9",
   "metadata": {},
   "source": [
    "# CPU Info\n",
    "\n",
    "Exploring how to generate system info in a consistemn manner. \n",
    "\n",
    "workhorsy/py-cpuinfo\n",
    "\n",
    "* looks good - it works across a range of sytems, etc\n",
    "* but its opertaion is limited to work on the host computer, not on files. Would need to be tweaked. \n",
    "* `./ASSETS/cpu_info.json` is the result of runnign this script Gadi\n"
   ]
  },
  {
   "cell_type": "code",
   "execution_count": 45,
   "id": "2cbcdc58",
   "metadata": {},
   "outputs": [],
   "source": [
    "from cpuinfo import *\n"
   ]
  },
  {
   "cell_type": "code",
   "execution_count": 94,
   "id": "503d45e3",
   "metadata": {},
   "outputs": [
    {
     "data": {
      "text/plain": [
       "{'python_version': '3.10.13.final.0 (64 bit)',\n",
       " 'cpuinfo_version': [9, 0, 0],\n",
       " 'cpuinfo_version_string': '9.0.0',\n",
       " 'arch': 'X86_64',\n",
       " 'bits': 64,\n",
       " 'count': 8,\n",
       " 'arch_string_raw': 'x86_64',\n",
       " 'vendor_id_raw': 'GenuineIntel',\n",
       " 'brand_raw': 'Intel(R) Xeon(R) CPU E3-1505M v6 @ 3.00GHz',\n",
       " 'hz_advertised_friendly': '3.0000 GHz',\n",
       " 'hz_actual_friendly': '3.6316 GHz',\n",
       " 'hz_advertised': [3000000000, 0],\n",
       " 'hz_actual': [3631577000, 0],\n",
       " 'stepping': 9,\n",
       " 'model': 158,\n",
       " 'family': 6,\n",
       " 'flags': ['3dnowprefetch',\n",
       "  'abm',\n",
       "  'acpi',\n",
       "  'adx',\n",
       "  'aes',\n",
       "  'aperfmperf',\n",
       "  'apic',\n",
       "  'arat',\n",
       "  'arch_capabilities',\n",
       "  'arch_perfmon',\n",
       "  'art',\n",
       "  'avx',\n",
       "  'avx2',\n",
       "  'bmi1',\n",
       "  'bmi2',\n",
       "  'bts',\n",
       "  'clflush',\n",
       "  'clflushopt',\n",
       "  'cmov',\n",
       "  'constant_tsc',\n",
       "  'cpuid',\n",
       "  'cpuid_fault',\n",
       "  'cx16',\n",
       "  'cx8',\n",
       "  'de',\n",
       "  'ds_cpl',\n",
       "  'dtes64',\n",
       "  'dtherm',\n",
       "  'dts',\n",
       "  'epb',\n",
       "  'ept',\n",
       "  'ept_ad',\n",
       "  'erms',\n",
       "  'est',\n",
       "  'f16c',\n",
       "  'flexpriority',\n",
       "  'flush_l1d',\n",
       "  'fma',\n",
       "  'fpu',\n",
       "  'fsgsbase',\n",
       "  'fxsr',\n",
       "  'hle',\n",
       "  'ht',\n",
       "  'hwp',\n",
       "  'hwp_act_window',\n",
       "  'hwp_epp',\n",
       "  'hwp_notify',\n",
       "  'ibpb',\n",
       "  'ibrs',\n",
       "  'ida',\n",
       "  'intel_pt',\n",
       "  'invpcid',\n",
       "  'invpcid_single',\n",
       "  'lahf_lm',\n",
       "  'lm',\n",
       "  'mca',\n",
       "  'mce',\n",
       "  'md_clear',\n",
       "  'mmx',\n",
       "  'monitor',\n",
       "  'movbe',\n",
       "  'mpx',\n",
       "  'msr',\n",
       "  'mtrr',\n",
       "  'nonstop_tsc',\n",
       "  'nopl',\n",
       "  'nx',\n",
       "  'osxsave',\n",
       "  'pae',\n",
       "  'pat',\n",
       "  'pbe',\n",
       "  'pcid',\n",
       "  'pclmulqdq',\n",
       "  'pdcm',\n",
       "  'pdpe1gb',\n",
       "  'pebs',\n",
       "  'pge',\n",
       "  'pln',\n",
       "  'pni',\n",
       "  'popcnt',\n",
       "  'pse',\n",
       "  'pse36',\n",
       "  'pti',\n",
       "  'pts',\n",
       "  'rdrand',\n",
       "  'rdrnd',\n",
       "  'rdseed',\n",
       "  'rdtscp',\n",
       "  'rep_good',\n",
       "  'rtm',\n",
       "  'sdbg',\n",
       "  'sep',\n",
       "  'sgx',\n",
       "  'smap',\n",
       "  'smep',\n",
       "  'smx',\n",
       "  'ss',\n",
       "  'ssbd',\n",
       "  'sse',\n",
       "  'sse2',\n",
       "  'sse4_1',\n",
       "  'sse4_2',\n",
       "  'ssse3',\n",
       "  'stibp',\n",
       "  'syscall',\n",
       "  'tm',\n",
       "  'tm2',\n",
       "  'tpr_shadow',\n",
       "  'tsc',\n",
       "  'tsc_adjust',\n",
       "  'tsc_deadline_timer',\n",
       "  'tscdeadline',\n",
       "  'vme',\n",
       "  'vmx',\n",
       "  'vnmi',\n",
       "  'vpid',\n",
       "  'x2apic',\n",
       "  'xgetbv1',\n",
       "  'xsave',\n",
       "  'xsavec',\n",
       "  'xsaveopt',\n",
       "  'xsaves',\n",
       "  'xtopology',\n",
       "  'xtpr'],\n",
       " 'l3_cache_size': 8388608,\n",
       " 'l2_cache_size': 1048576,\n",
       " 'l1_data_cache_size': 131072,\n",
       " 'l1_instruction_cache_size': 131072,\n",
       " 'l2_cache_line_size': 256,\n",
       " 'l2_cache_associativity': 6}"
      ]
     },
     "execution_count": 94,
     "metadata": {},
     "output_type": "execute_result"
    }
   ],
   "source": [
    "cpu_here = get_cpu_info()\n",
    "cpu_here"
   ]
  },
  {
   "cell_type": "code",
   "execution_count": 96,
   "id": "0ffb4f74",
   "metadata": {},
   "outputs": [
    {
     "data": {
      "text/plain": [
       "dict_keys(['python_version', 'cpuinfo_version', 'cpuinfo_version_string', 'arch', 'bits', 'count', 'arch_string_raw', 'vendor_id_raw', 'brand_raw', 'hz_advertised_friendly', 'hz_actual_friendly', 'hz_advertised', 'hz_actual', 'stepping', 'model', 'family', 'flags', 'l3_cache_size', 'l2_cache_size', 'l1_data_cache_size', 'l1_instruction_cache_size', 'l2_cache_line_size', 'l2_cache_associativity'])"
      ]
     },
     "execution_count": 96,
     "metadata": {},
     "output_type": "execute_result"
    }
   ],
   "source": [
    "cpu_here.keys()"
   ]
  },
  {
   "cell_type": "markdown",
   "id": "77d4b7da",
   "metadata": {},
   "source": [
    "## Scratch"
   ]
  },
  {
   "cell_type": "code",
   "execution_count": null,
   "id": "6fb723c5",
   "metadata": {},
   "outputs": [],
   "source": [
    "import pyorcid #https://github.com/vdmitriyev/pyorcid\n",
    "#retrieve john's profile from his ORCID\n",
    "\n",
    "\n",
    "author= pyorcid.get('0000-0002-1270-4377')\n",
    "print (author.family_name)\n",
    "\n",
    "author.biography\n",
    "author.publications[0]\n",
    "author = pyorcid.get('0000-0003-3566-1557')\n",
    "pubs = author.publications\n",
    "pub1 = pubs[0]\n",
    "pub1.citation_value"
   ]
  },
  {
   "cell_type": "code",
   "execution_count": null,
   "id": "8787ac2e",
   "metadata": {},
   "outputs": [],
   "source": []
  },
  {
   "cell_type": "code",
   "execution_count": null,
   "id": "88634007",
   "metadata": {},
   "outputs": [],
   "source": []
  },
  {
   "cell_type": "code",
   "execution_count": null,
   "id": "de1568c4",
   "metadata": {},
   "outputs": [],
   "source": []
  },
  {
   "cell_type": "code",
   "execution_count": null,
   "id": "9a459661",
   "metadata": {},
   "outputs": [],
   "source": [
    "\n",
    "RedHatInsights/insights-core\n",
    "\n",
    "* has the desired operation, in that it reads in a CPUinfo file. \n",
    "* But it doesn't give the right info for my system,\n"
   ]
  },
  {
   "cell_type": "code",
   "execution_count": null,
   "id": "753cb042",
   "metadata": {},
   "outputs": [],
   "source": [
    "#with open('./ASSETS/cpuinfo_gadi', 'r') as file:\n",
    "with open('./ASSETS/cpuinfo_local', 'r') as file:    \n",
    "    data = file.read().replace('\\n', '')\n",
    "    cpu_info = CpuInfo(context_wrap(data))"
   ]
  }
 ],
 "metadata": {
  "kernelspec": {
   "display_name": "Python 3 (ipykernel)",
   "language": "python",
   "name": "python3"
  },
  "language_info": {
   "codemirror_mode": {
    "name": "ipython",
    "version": 3
   },
   "file_extension": ".py",
   "mimetype": "text/x-python",
   "name": "python",
   "nbconvert_exporter": "python",
   "pygments_lexer": "ipython3",
   "version": "3.10.13"
  }
 },
 "nbformat": 4,
 "nbformat_minor": 5
}
